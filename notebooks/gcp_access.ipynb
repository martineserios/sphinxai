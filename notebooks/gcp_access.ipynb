{
 "cells": [
  {
   "cell_type": "code",
   "execution_count": 14,
   "metadata": {},
   "outputs": [
    {
     "output_type": "stream",
     "name": "stdout",
     "text": [
      "Auth OK!\n"
     ]
    }
   ],
   "source": [
    "# setting credentials\n",
    "import os\n",
    "os.environ[\"GOOGLE_APPLICATION_CREDENTIALS\"]=\"../SphinxAI-9005428e5618.json\"\n",
    "from google.cloud import storage\n",
    "\n",
    "\n",
    "\n",
    "# check auth\n",
    "def implicit():\n",
    "    # If you don't specify credentials when constructing the client, the\n",
    "    # client library will look for credentials in the environment.\n",
    "    storage_client = storage.Client()\n",
    "\n",
    "    # Make an authenticated API request\n",
    "    buckets = list(storage_client.list_buckets())\n",
    "    if len(buckets) > 0 :\n",
    "        print('Auth OK!')\n",
    "    else:\n",
    "        print('Auth not working..')\n",
    "\n",
    "implicit()"
   ]
  },
  {
   "cell_type": "code",
   "execution_count": 15,
   "metadata": {},
   "outputs": [],
   "source": [
    "def upload_blob(bucket_name, source_file_name, destination_blob_name):\n",
    "    \"\"\"Uploads a file to the bucket.\"\"\"\n",
    "    # bucket_name = \"your-bucket-name\"\n",
    "    # source_file_name = \"local/path/to/file\"\n",
    "    # destination_blob_name = \"storage-object-name\"\n",
    "\n",
    "    storage_client = storage.Client()\n",
    "    bucket = storage_client.bucket(bucket_name)\n",
    "    blob = bucket.blob(destination_blob_name)\n",
    "\n",
    "    blob.upload_from_filename(source_file_name)\n",
    "\n",
    "    print(\n",
    "        \"File {} uploaded to {}.\".format(\n",
    "            source_file_name, destination_blob_name\n",
    "        )\n",
    "    )"
   ]
  },
  {
   "cell_type": "code",
   "execution_count": 16,
   "metadata": {},
   "outputs": [],
   "source": [
    "def download_blob(bucket_name, source_blob_name, destination_file_name):\n",
    "    \"\"\"Downloads a blob from the bucket.\"\"\"\n",
    "    # bucket_name = \"your-bucket-name\"\n",
    "    # source_blob_name = \"storage-object-name\"\n",
    "    # destination_file_name = \"local/path/to/file\"\n",
    "\n",
    "    storage_client = storage.Client()\n",
    "\n",
    "    bucket = storage_client.bucket(bucket_name)\n",
    "\n",
    "    # Construct a client side representation of a blob.\n",
    "    # Note `Bucket.blob` differs from `Bucket.get_blob` as it doesn't retrieve\n",
    "    # any content from Google Cloud Storage. As we don't need additional data,\n",
    "    # using `Bucket.blob` is preferred here.\n",
    "    blob = bucket.blob(source_blob_name)\n",
    "    blob.download_to_filename(destination_file_name)\n",
    "\n",
    "    print(\n",
    "        \"Blob {} downloaded to {}.\".format(\n",
    "            source_blob_name, destination_file_name\n",
    "        )\n",
    "    )"
   ]
  },
  {
   "cell_type": "code",
   "execution_count": 17,
   "metadata": {},
   "outputs": [],
   "source": [
    "def uplaod_local_files(folder, bucket):\n",
    "    \"\"\"Uploads local files which are not present on the chosen bucker.\"\"\"\n",
    "\n",
    "    # local files\n",
    "    media_path = '../media/'\n",
    "    local_files = [f for f in os.listdir(media_path) if os.path.isfile(f)]\n",
    "    \n",
    "    # gcp files\n",
    "    storage_client = storage.Client()\n",
    "    blobs = list(storage_client.list_blobs(bucket_name))\n",
    "\n",
    "    # files to upload\n",
    "    files_up = [file for file in local_files if file not in blobs]\n",
    "    \n",
    "    # uplolad files\n",
    "    [upload_blob(bucket, '/'.join([media_path, file]), file) for file in files_up]\n",
    "\n",
    "    return print(', '.join(files_up) + ' were uploaded!')"
   ]
  },
  {
   "cell_type": "code",
   "execution_count": 20,
   "metadata": {},
   "outputs": [],
   "source": [
    "def uplaod_local_files(folder, bucket):\n",
    "    \"\"\"Uploads local files which are not present on the chosen bucker.\"\"\"\n",
    "    # local files\n",
    "    media_path = folder\n",
    "    local_files = [f for f in os.listdir(media_path) if os.path.isfile(f)]\n",
    "    \n",
    "    # gcp files\n",
    "    storage_client = storage.Client()\n",
    "    blobs = list(storage_client.list_blobs(bucket))\n",
    "\n",
    "    # files to upload\n",
    "    files_up = [file for file in local_files if file not in blobs]\n",
    "    \n",
    "    # uplolad files\n",
    "    [upload_blob(bucket, '/'.join([media_path, file]), file) for file in files_up]\n",
    "\n",
    "    return print(', '.join(files_up) + ' were uploaded!')"
   ]
  },
  {
   "cell_type": "code",
   "execution_count": 22,
   "metadata": {},
   "outputs": [
    {
     "output_type": "stream",
     "name": "stdout",
     "text": [
      " were uploaded!\n"
     ]
    }
   ],
   "source": [
    "uplaod_local_files('../media_tmp/', 'tests_videos')"
   ]
  },
  {
   "cell_type": "code",
   "execution_count": null,
   "metadata": {},
   "outputs": [],
   "source": []
  }
 ],
 "metadata": {
  "kernelspec": {
   "display_name": "Python 3.8.6 64-bit ('sphinxai-lab': conda)",
   "language": "python",
   "name": "python38664bitsphinxailabconda987e410be5c647f699892c1f95b9a714"
  },
  "language_info": {
   "codemirror_mode": {
    "name": "ipython",
    "version": 3
   },
   "file_extension": ".py",
   "mimetype": "text/x-python",
   "name": "python",
   "nbconvert_exporter": "python",
   "pygments_lexer": "ipython3",
   "version": "3.8.6-final"
  }
 },
 "nbformat": 4,
 "nbformat_minor": 4
}